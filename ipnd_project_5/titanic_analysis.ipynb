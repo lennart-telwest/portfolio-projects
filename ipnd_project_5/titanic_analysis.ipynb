{
 "cells": [
  {
   "cell_type": "markdown",
   "metadata": {},
   "source": [
    "# Titanic Survivor Analysis\n",
    "##  What factors made people more likely to survive?\n",
    "### *RMS Titanic was a passenger liner that sank in the North Atlantic Ocean on 15 April 1912 after colliding with an iceberg during her first voyage from Southampton, UK to New York City, US. The sinking of Titanic caused the deaths of 1,514 people in one of the deadliest peacetime maritime disasters in history. Titanic was the largest ship at the time and was called 'the unsinkable'.*\n",
    "\n",
    "#### This is a digital recreation of the sinking:\n",
    "\n",
    "[![IMAGE ALT TEXT](http://img.youtube.com/vi/9xoqXVjBEF8/0.jpg)](http://www.youtube.com/watch?v=9xoqXVjBEF8 \"Titanic sinking\")"
   ]
  },
  {
   "cell_type": "markdown",
   "metadata": {},
   "source": [
    "## Data Wrangling Phase"
   ]
  },
  {
   "cell_type": "code",
   "execution_count": 267,
   "metadata": {
    "collapsed": false
   },
   "outputs": [],
   "source": [
    "# Imports\n",
    "import pandas as pd\n",
    "import pandas as pd\n",
    "import numpy as np\n",
    "import matplotlib.pyplot as plt\n",
    "import seaborn as sns\n",
    "sns.set_style('whitegrid')\n",
    "%matplotlib inline"
   ]
  },
  {
   "cell_type": "code",
   "execution_count": 268,
   "metadata": {
    "collapsed": false
   },
   "outputs": [
    {
     "data": {
      "text/html": [
       "<div>\n",
       "<table border=\"1\" class=\"dataframe\">\n",
       "  <thead>\n",
       "    <tr style=\"text-align: right;\">\n",
       "      <th></th>\n",
       "      <th>PassengerId</th>\n",
       "      <th>Survived</th>\n",
       "      <th>Pclass</th>\n",
       "      <th>Name</th>\n",
       "      <th>Sex</th>\n",
       "      <th>Age</th>\n",
       "      <th>SibSp</th>\n",
       "      <th>Parch</th>\n",
       "      <th>Ticket</th>\n",
       "      <th>Fare</th>\n",
       "      <th>Cabin</th>\n",
       "      <th>Embarked</th>\n",
       "    </tr>\n",
       "  </thead>\n",
       "  <tbody>\n",
       "    <tr>\n",
       "      <th>0</th>\n",
       "      <td>1</td>\n",
       "      <td>0</td>\n",
       "      <td>3</td>\n",
       "      <td>Braund, Mr. Owen Harris</td>\n",
       "      <td>male</td>\n",
       "      <td>22.0</td>\n",
       "      <td>1</td>\n",
       "      <td>0</td>\n",
       "      <td>A/5 21171</td>\n",
       "      <td>7.2500</td>\n",
       "      <td>NaN</td>\n",
       "      <td>S</td>\n",
       "    </tr>\n",
       "    <tr>\n",
       "      <th>1</th>\n",
       "      <td>2</td>\n",
       "      <td>1</td>\n",
       "      <td>1</td>\n",
       "      <td>Cumings, Mrs. John Bradley (Florence Briggs Th...</td>\n",
       "      <td>female</td>\n",
       "      <td>38.0</td>\n",
       "      <td>1</td>\n",
       "      <td>0</td>\n",
       "      <td>PC 17599</td>\n",
       "      <td>71.2833</td>\n",
       "      <td>C85</td>\n",
       "      <td>C</td>\n",
       "    </tr>\n",
       "    <tr>\n",
       "      <th>2</th>\n",
       "      <td>3</td>\n",
       "      <td>1</td>\n",
       "      <td>3</td>\n",
       "      <td>Heikkinen, Miss. Laina</td>\n",
       "      <td>female</td>\n",
       "      <td>26.0</td>\n",
       "      <td>0</td>\n",
       "      <td>0</td>\n",
       "      <td>STON/O2. 3101282</td>\n",
       "      <td>7.9250</td>\n",
       "      <td>NaN</td>\n",
       "      <td>S</td>\n",
       "    </tr>\n",
       "    <tr>\n",
       "      <th>3</th>\n",
       "      <td>4</td>\n",
       "      <td>1</td>\n",
       "      <td>1</td>\n",
       "      <td>Futrelle, Mrs. Jacques Heath (Lily May Peel)</td>\n",
       "      <td>female</td>\n",
       "      <td>35.0</td>\n",
       "      <td>1</td>\n",
       "      <td>0</td>\n",
       "      <td>113803</td>\n",
       "      <td>53.1000</td>\n",
       "      <td>C123</td>\n",
       "      <td>S</td>\n",
       "    </tr>\n",
       "    <tr>\n",
       "      <th>4</th>\n",
       "      <td>5</td>\n",
       "      <td>0</td>\n",
       "      <td>3</td>\n",
       "      <td>Allen, Mr. William Henry</td>\n",
       "      <td>male</td>\n",
       "      <td>35.0</td>\n",
       "      <td>0</td>\n",
       "      <td>0</td>\n",
       "      <td>373450</td>\n",
       "      <td>8.0500</td>\n",
       "      <td>NaN</td>\n",
       "      <td>S</td>\n",
       "    </tr>\n",
       "  </tbody>\n",
       "</table>\n",
       "</div>"
      ],
      "text/plain": [
       "   PassengerId  Survived  Pclass  \\\n",
       "0            1         0       3   \n",
       "1            2         1       1   \n",
       "2            3         1       3   \n",
       "3            4         1       1   \n",
       "4            5         0       3   \n",
       "\n",
       "                                                Name     Sex   Age  SibSp  \\\n",
       "0                            Braund, Mr. Owen Harris    male  22.0      1   \n",
       "1  Cumings, Mrs. John Bradley (Florence Briggs Th...  female  38.0      1   \n",
       "2                             Heikkinen, Miss. Laina  female  26.0      0   \n",
       "3       Futrelle, Mrs. Jacques Heath (Lily May Peel)  female  35.0      1   \n",
       "4                           Allen, Mr. William Henry    male  35.0      0   \n",
       "\n",
       "   Parch            Ticket     Fare Cabin Embarked  \n",
       "0      0         A/5 21171   7.2500   NaN        S  \n",
       "1      0          PC 17599  71.2833   C85        C  \n",
       "2      0  STON/O2. 3101282   7.9250   NaN        S  \n",
       "3      0            113803  53.1000  C123        S  \n",
       "4      0            373450   8.0500   NaN        S  "
      ]
     },
     "execution_count": 268,
     "metadata": {},
     "output_type": "execute_result"
    }
   ],
   "source": [
    "# get titanic & test csv files as a DataFrame\n",
    "titanic_df = pd.read_csv(\"./titanic_data.csv\")\n",
    "\n",
    "# preview the data\n",
    "titanic_df.head()"
   ]
  },
  {
   "cell_type": "code",
   "execution_count": 269,
   "metadata": {
    "collapsed": false
   },
   "outputs": [
    {
     "name": "stdout",
     "output_type": "stream",
     "text": [
      "<class 'pandas.core.frame.DataFrame'>\n",
      "RangeIndex: 891 entries, 0 to 890\n",
      "Data columns (total 12 columns):\n",
      "PassengerId    891 non-null int64\n",
      "Survived       891 non-null int64\n",
      "Pclass         891 non-null int64\n",
      "Name           891 non-null object\n",
      "Sex            891 non-null object\n",
      "Age            714 non-null float64\n",
      "SibSp          891 non-null int64\n",
      "Parch          891 non-null int64\n",
      "Ticket         891 non-null object\n",
      "Fare           891 non-null float64\n",
      "Cabin          204 non-null object\n",
      "Embarked       889 non-null object\n",
      "dtypes: float64(2), int64(5), object(5)\n",
      "memory usage: 83.6+ KB\n"
     ]
    }
   ],
   "source": [
    "#summary of dataframe\n",
    "titanic_df.info()"
   ]
  },
  {
   "cell_type": "markdown",
   "metadata": {},
   "source": [
    "### Available factors in the dataset:\n",
    "\n",
    "| Column Name   | Description                       | Completeness  | \n",
    "| :-----------: |:---------------------------------:| :------------:| \n",
    "| PassengerId   | ID of Passenger                   | 891/891       | \n",
    "| Survived      | Survival (1)                      | 891/891       | \n",
    "| Pclass        | Passenger Class (2)               | 891/891       |\n",
    "| Name          | Name                              | 891/891       | \n",
    "| Sex           | Sex                               | 891/891       |\n",
    "| Age           | Age                               | 714/891       |\n",
    "| SibSp         | Number of Siblings/Spouses Aboard | 891/891       |\n",
    "| Parch         | Number of Parents/Children Aboard | 891/891       |\n",
    "| Ticket        | Ticket Number                     | 891/891       |\n",
    "| Fare          | Passenger Fare                    | 891/891       |\n",
    "| Cabin         | Cabin                             | 204/891       |\n",
    "| Embarked      | Port of Embarkation (3)           | 889/891       |\n",
    "\n",
    "1: (0 = No; 1 = Yes)\n",
    "2: (1 = 1st; 2 = 2nd; 3 = 3rd)\n",
    "3: (C = Cherbourg; Q = Queenstown; S = Southampton)"
   ]
  },
  {
   "cell_type": "markdown",
   "metadata": {},
   "source": [
    "## Missing Data\n",
    "As seen above, most columns contain complete data. Only Age (177 missing values), Cabin (687 missing values) and Port of Embarkation (2 missing values) are incomplete.\n",
    "\n",
    "### Cabin\n",
    "Most of the cabin data is missing, so it will not be considered in this analysis. The Passenger Class also includes the cabin/deck of the passenger, as the first class had the upper decks, second class the mid, and third class the lower decks ([wiki](https://en.wikipedia.org/wiki/RMS_Titanic#Dimensions) - Dimensions and layout).\n"
   ]
  },
  {
   "cell_type": "code",
   "execution_count": 270,
   "metadata": {
    "collapsed": false
   },
   "outputs": [],
   "source": [
    "# drop cabin column\n",
    "titanic_df = titanic_df.drop('Cabin', 1)"
   ]
  },
  {
   "cell_type": "markdown",
   "metadata": {},
   "source": [
    "### Age\n",
    "The age is a key demographic factor and missing data should be imputed. Roughly 20% of the data is missing, the goal is to fill the missing values without changing the distribution."
   ]
  },
  {
   "cell_type": "code",
   "execution_count": 271,
   "metadata": {
    "collapsed": false
   },
   "outputs": [
    {
     "data": {
      "text/html": [
       "<div>\n",
       "<table border=\"1\" class=\"dataframe\">\n",
       "  <thead>\n",
       "    <tr style=\"text-align: right;\">\n",
       "      <th></th>\n",
       "      <th>Age</th>\n",
       "    </tr>\n",
       "  </thead>\n",
       "  <tbody>\n",
       "    <tr>\n",
       "      <th>count</th>\n",
       "      <td>714.000000</td>\n",
       "    </tr>\n",
       "    <tr>\n",
       "      <th>mean</th>\n",
       "      <td>29.699118</td>\n",
       "    </tr>\n",
       "    <tr>\n",
       "      <th>std</th>\n",
       "      <td>14.526497</td>\n",
       "    </tr>\n",
       "    <tr>\n",
       "      <th>min</th>\n",
       "      <td>0.420000</td>\n",
       "    </tr>\n",
       "    <tr>\n",
       "      <th>25%</th>\n",
       "      <td>20.125000</td>\n",
       "    </tr>\n",
       "    <tr>\n",
       "      <th>50%</th>\n",
       "      <td>28.000000</td>\n",
       "    </tr>\n",
       "    <tr>\n",
       "      <th>75%</th>\n",
       "      <td>38.000000</td>\n",
       "    </tr>\n",
       "    <tr>\n",
       "      <th>max</th>\n",
       "      <td>80.000000</td>\n",
       "    </tr>\n",
       "  </tbody>\n",
       "</table>\n",
       "</div>"
      ],
      "text/plain": [
       "              Age\n",
       "count  714.000000\n",
       "mean    29.699118\n",
       "std     14.526497\n",
       "min      0.420000\n",
       "25%     20.125000\n",
       "50%     28.000000\n",
       "75%     38.000000\n",
       "max     80.000000"
      ]
     },
     "execution_count": 271,
     "metadata": {},
     "output_type": "execute_result"
    }
   ],
   "source": [
    "# Describe available ages\n",
    "age = titanic_df[[\"Age\"]].dropna()\n",
    "describtion_age = age.describe()\n",
    "describtion_age"
   ]
  },
  {
   "cell_type": "code",
   "execution_count": 272,
   "metadata": {
    "collapsed": false
   },
   "outputs": [
    {
     "data": {
      "text/html": [
       "<div>\n",
       "<table border=\"1\" class=\"dataframe\">\n",
       "  <thead>\n",
       "    <tr style=\"text-align: right;\">\n",
       "      <th></th>\n",
       "      <th>Age</th>\n",
       "      <th>Age_mod</th>\n",
       "    </tr>\n",
       "  </thead>\n",
       "  <tbody>\n",
       "    <tr>\n",
       "      <th>count</th>\n",
       "      <td>714.000000</td>\n",
       "      <td>891.000000</td>\n",
       "    </tr>\n",
       "    <tr>\n",
       "      <th>mean</th>\n",
       "      <td>29.699118</td>\n",
       "      <td>29.726061</td>\n",
       "    </tr>\n",
       "    <tr>\n",
       "      <th>std</th>\n",
       "      <td>14.526497</td>\n",
       "      <td>13.902353</td>\n",
       "    </tr>\n",
       "    <tr>\n",
       "      <th>min</th>\n",
       "      <td>0.420000</td>\n",
       "      <td>0.420000</td>\n",
       "    </tr>\n",
       "    <tr>\n",
       "      <th>25%</th>\n",
       "      <td>20.125000</td>\n",
       "      <td>21.000000</td>\n",
       "    </tr>\n",
       "    <tr>\n",
       "      <th>50%</th>\n",
       "      <td>28.000000</td>\n",
       "      <td>28.500000</td>\n",
       "    </tr>\n",
       "    <tr>\n",
       "      <th>75%</th>\n",
       "      <td>38.000000</td>\n",
       "      <td>38.000000</td>\n",
       "    </tr>\n",
       "    <tr>\n",
       "      <th>max</th>\n",
       "      <td>80.000000</td>\n",
       "      <td>80.000000</td>\n",
       "    </tr>\n",
       "  </tbody>\n",
       "</table>\n",
       "</div>"
      ],
      "text/plain": [
       "              Age     Age_mod\n",
       "count  714.000000  891.000000\n",
       "mean    29.699118   29.726061\n",
       "std     14.526497   13.902353\n",
       "min      0.420000    0.420000\n",
       "25%     20.125000   21.000000\n",
       "50%     28.000000   28.500000\n",
       "75%     38.000000   38.000000\n",
       "max     80.000000   80.000000"
      ]
     },
     "execution_count": 272,
     "metadata": {},
     "output_type": "execute_result"
    }
   ],
   "source": [
    "# Interpolate missing ages\n",
    "titanic_df['Age_mod'] = titanic_df[[\"Age\"]].interpolate()\n",
    "age_mod = titanic_df[[\"Age_mod\"]]\n",
    "\n",
    "# Describe both original and interpolated data\n",
    "describtion_age_mod = age_mod.describe()\n",
    "pd.concat([describtion_age, describtion_age_mod], axis=1)"
   ]
  },
  {
   "cell_type": "code",
   "execution_count": 273,
   "metadata": {
    "collapsed": false
   },
   "outputs": [
    {
     "name": "stderr",
     "output_type": "stream",
     "text": [
      "/Users/lt/anaconda/lib/python3.6/site-packages/statsmodels/nonparametric/kdetools.py:20: VisibleDeprecationWarning: using a non-integer number instead of an integer will result in an error in the future\n",
      "  y = X[:m/2+1] + np.r_[0,X[m/2+1:],0]*1j\n"
     ]
    },
    {
     "data": {
      "image/png": "[encoded data removed]",
      "text/plain": [
       "<matplotlib.figure.Figure at 0x122390c18>"
      ]
     },
     "metadata": {},
     "output_type": "display_data"
    }
   ],
   "source": [
    "fig, (axis0,axis1) = plt.subplots(1,2,figsize=(10,5))\n",
    "\n",
    "# Create distplot for orginal ages\n",
    "age_distplot = sns.distplot(age, ax=axis0)\n",
    "# Naming the plot\n",
    "axes = age_distplot.axes\n",
    "axes.set_title('Passenger Distibution of Age in %')\n",
    "axes.set_ylim(0,)\n",
    "axes.set(xlabel='Age', ylabel='% of all passengers')\n",
    "\n",
    "# Create distplot for interpolated ages\n",
    "age_mod_distplot = sns.distplot(age_mod, ax=axis1)\n",
    "# Naming the plot\n",
    "axes_mod = age_mod_distplot.axes\n",
    "axes_mod.set_title('Passenger Distibution of Imputed Age in %')\n",
    "axes_mod.set_ylim(0,)\n",
    "axes_mod.set(xlabel='Imputed Age', ylabel='% of all passengers')\n",
    "\n",
    "plt.show()"
   ]
  },
  {
   "cell_type": "markdown",
   "metadata": {},
   "source": [
    "Interpolation imputed the missing values without changing the underlying distribution too much as seen in marginal change of the location parameters as well as the distribution plots above."
   ]
  },
  {
   "cell_type": "code",
   "execution_count": 274,
   "metadata": {
    "collapsed": false
   },
   "outputs": [
    {
     "name": "stdout",
     "output_type": "stream",
     "text": [
      "<class 'pandas.core.frame.DataFrame'>\n",
      "RangeIndex: 891 entries, 0 to 890\n",
      "Data columns (total 11 columns):\n",
      "PassengerId    891 non-null int64\n",
      "Survived       891 non-null int64\n",
      "Pclass         891 non-null int64\n",
      "Name           891 non-null object\n",
      "Sex            891 non-null object\n",
      "Age            891 non-null float64\n",
      "SibSp          891 non-null int64\n",
      "Parch          891 non-null int64\n",
      "Ticket         891 non-null object\n",
      "Fare           891 non-null float64\n",
      "Embarked       889 non-null object\n",
      "dtypes: float64(2), int64(5), object(4)\n",
      "memory usage: 76.6+ KB\n"
     ]
    }
   ],
   "source": [
    "# Finally we get rid of age_mod and change the age column for the interpolated values \n",
    "titanic_df['Age'] = titanic_df[\"Age_mod\"]\n",
    "titanic_df = titanic_df.drop('Age_mod', 1)\n",
    "titanic_df.info()"
   ]
  },
  {
   "cell_type": "markdown",
   "metadata": {},
   "source": [
    "# Embarked"
   ]
  },
  {
   "cell_type": "code",
   "execution_count": 275,
   "metadata": {
    "collapsed": false
   },
   "outputs": [
    {
     "data": {
      "text/plain": [
       "S    644\n",
       "C    168\n",
       "Q     77\n",
       "Name: Embarked, dtype: int64"
      ]
     },
     "execution_count": 275,
     "metadata": {},
     "output_type": "execute_result"
    }
   ],
   "source": [
    "# Only two values are missing\n",
    "# NaNs will be replaced with most occuring value\n",
    "titanic_df[\"Embarked\"].value_counts()"
   ]
  },
  {
   "cell_type": "code",
   "execution_count": 276,
   "metadata": {
    "collapsed": false
   },
   "outputs": [
    {
     "data": {
      "text/plain": [
       "S    646\n",
       "C    168\n",
       "Q     77\n",
       "Name: Embarked, dtype: int64"
      ]
     },
     "execution_count": 276,
     "metadata": {},
     "output_type": "execute_result"
    }
   ],
   "source": [
    "titanic_df[\"Embarked\"] = titanic_df[\"Embarked\"].fillna(value='S')\n",
    "titanic_df[\"Embarked\"].value_counts()"
   ]
  },
  {
   "cell_type": "code",
   "execution_count": 277,
   "metadata": {
    "collapsed": false
   },
   "outputs": [
    {
     "name": "stdout",
     "output_type": "stream",
     "text": [
      "<class 'pandas.core.frame.DataFrame'>\n",
      "RangeIndex: 891 entries, 0 to 890\n",
      "Data columns (total 11 columns):\n",
      "PassengerId    891 non-null int64\n",
      "Survived       891 non-null int64\n",
      "Pclass         891 non-null int64\n",
      "Name           891 non-null object\n",
      "Sex            891 non-null object\n",
      "Age            891 non-null float64\n",
      "SibSp          891 non-null int64\n",
      "Parch          891 non-null int64\n",
      "Ticket         891 non-null object\n",
      "Fare           891 non-null float64\n",
      "Embarked       891 non-null object\n",
      "dtypes: float64(2), int64(5), object(4)\n",
      "memory usage: 76.6+ KB\n"
     ]
    }
   ],
   "source": [
    "# Check dataframe for missing values\n",
    "titanic_df.info()"
   ]
  },
  {
   "cell_type": "markdown",
   "metadata": {},
   "source": [
    "### Data wrangling completed\n",
    "All missing values are handled."
   ]
  },
  {
   "cell_type": "markdown",
   "metadata": {},
   "source": [
    "# Exploration Phase\n",
    "The intersting columns in the dataframe are:\n",
    "### Pclass\n",
    "Did the Passenger Class influence the survival rate?\n",
    "Wealthy people might have had a better chance of survival as their cabins were located in the top decks (and had the shortest distance to the lifeboats).\n",
    "### Sex \n",
    "Were women or men more likely to survive?\n",
    "### Age\n",
    "Were young and old people evacuated first? Or did old people rather have a worse survival rate due to mobility issues? \n",
    "### SibSp & Parch\n",
    "Did people with family onboard have a higher chance to survive as they helped each other?\n",
    "### Fare\n",
    "Won't be analysed as it is logically the same as pclass.\n",
    "### Embarked\n",
    "Won't be analysed as it logically should not impact the survival rate.\n",
    "\n",
    "#### In the follwing I will go through each of those variables and discuss the findings."
   ]
  },
  {
   "cell_type": "markdown",
   "metadata": {},
   "source": [
    "## Pclass - Did the Passenger Class influence the survival rate?"
   ]
  },
  {
   "cell_type": "code",
   "execution_count": 278,
   "metadata": {
    "collapsed": false
   },
   "outputs": [
    {
     "data": {
      "image/png": "[encoded data removed]",
      "text/plain": [
       "<matplotlib.figure.Figure at 0x121f3f4a8>"
      ]
     },
     "metadata": {},
     "output_type": "display_data"
    }
   ],
   "source": [
    "# How many passengers per class?\n",
    "fig, (axis0,axis1) = plt.subplots(1,2,figsize=(10,5))\n",
    "pclass_countplot = sns.countplot(x='Pclass', data=titanic_df, ax = axis0)\n",
    "pclass_countplot.set(title = 'Absolute distrubution of passengers by class', xlabel='Passenger Class', ylabel='Number of Passengers')\n",
    "\n",
    "### Survival rate per class?\n",
    "class_srate = titanic_df[['Pclass', 'Survived']].groupby(['Pclass'],as_index=False).mean()\n",
    "pclass_srate_countplot = sns.barplot(x='Pclass', y='Survived', data=class_srate, ax = axis1)\n",
    "pclass_srate_countplot.set(title = 'Survival rate of passengers by class', xlabel='Passenger Class', ylabel='Survival Rate')\n",
    "\n",
    "plt.show()"
   ]
  },
  {
   "cell_type": "markdown",
   "metadata": {},
   "source": [
    "### The Survival Rate for passengers in the first and second class are way higher than for those in the third class.\n",
    "\n",
    "Considering the first and second class being [located in the upper decks](http://www.dummies.com/education/history/titanic-facts-the-layout-of-the-ship/), it is likely that the location of a passenger mattered a lot when the titanic got evacuated. As the Titanic sunk during the night, it is likely that most passengers were in their cabins.\n",
    "\n",
    "![Titanic Deck Overview](https://upload.wikimedia.org/wikipedia/commons/thumb/5/5d/Titanic_side_plan_annotated_English.png/1100px-Titanic_side_plan_annotated_English.png \"Titanic Deck Overview\")"
   ]
  },
  {
   "cell_type": "markdown",
   "metadata": {},
   "source": [
    "## Sex - Were women or men more likely to survive?"
   ]
  },
  {
   "cell_type": "code",
   "execution_count": 279,
   "metadata": {
    "collapsed": false
   },
   "outputs": [
    {
     "data": {
      "image/png": "[encoded data removed]",
      "text/plain": [
       "<matplotlib.figure.Figure at 0x12240b4a8>"
      ]
     },
     "metadata": {},
     "output_type": "display_data"
    }
   ],
   "source": [
    "# How many women and men were on board?\n",
    "fig, (axis0,axis1) = plt.subplots(1,2,figsize=(10,5))\n",
    "sex_countplot = sns.countplot(x='Sex', data=titanic_df, ax = axis0)\n",
    "sex_countplot.set(title = 'Number of passengers by sex',xlabel='Sex', ylabel='Number of Passengers')\n",
    "\n",
    "# Survival rate by sex?\n",
    "class_srate = titanic_df[['Sex', 'Survived']].groupby(['Sex'],as_index=False).mean()\n",
    "pclass_srate_countplot = sns.barplot(x='Sex', y='Survived', data=class_srate, ax = axis1)\n",
    "pclass_srate_countplot.set(title = 'Survival rate of passengers by sex',xlabel='Sex', ylabel='Survival Rate')\n",
    "\n",
    "plt.show()"
   ]
  },
  {
   "cell_type": "markdown",
   "metadata": {},
   "source": [
    "### Women had a way higher survival rate\n",
    "Women had a survival rate of more than 70%, while less than 20% of all men on board survived."
   ]
  },
  {
   "cell_type": "markdown",
   "metadata": {},
   "source": [
    "\n",
    "### Did the survival rate also differ for women and men in the different classes?"
   ]
  },
  {
   "cell_type": "code",
   "execution_count": 280,
   "metadata": {
    "collapsed": false
   },
   "outputs": [
    {
     "data": {
      "image/png": "[encoded data removed]",
      "text/plain": [
       "<matplotlib.figure.Figure at 0x124867e80>"
      ]
     },
     "metadata": {},
     "output_type": "display_data"
    }
   ],
   "source": [
    "# How many passengers per class?\n",
    "fig, (axis0,axis1) = plt.subplots(1,2,figsize=(10,5))\n",
    "pclass_countplot = sns.countplot(x='Pclass', hue='Sex' , hue_order=['female', 'male'], data=titanic_df, ax = axis0)\n",
    "pclass_countplot.set(title = 'Number of passengers by class and sex',xlabel='Passenger Class', ylabel='Number of Passengers')\n",
    "\n",
    "### Survival rate per class?\n",
    "class_srate = titanic_df[['Pclass','Sex', 'Survived']].groupby(['Pclass', 'Sex'],as_index=False).mean()\n",
    "pclass_srate_barplot = sns.barplot(x='Pclass', y='Survived',hue='Sex', hue_order=['female', 'male'], data=class_srate, ax = axis1)\n",
    "pclass_srate_barplot.set(title = 'Survival rate of passengers by class and sex', xlabel='Passenger Class', ylabel='Survival Rate')\n",
    "\n",
    "plt.show()"
   ]
  },
  {
   "cell_type": "markdown",
   "metadata": {},
   "source": [
    "### The high survival rate for women holds true for the 3rd class. The plots suggest that women travelling in the first or second class were highly unlikely to die."
   ]
  },
  {
   "cell_type": "markdown",
   "metadata": {},
   "source": [
    "## Age \n",
    "### Were young and old people evacuated first? Or did old people rather have a worse survival rate due to mobility issues?"
   ]
  },
  {
   "cell_type": "code",
   "execution_count": 281,
   "metadata": {
    "collapsed": true
   },
   "outputs": [],
   "source": [
    "def categorize_by_age(age):\n",
    "    ''' takes an age and returns category based on age'''\n",
    "    if age < 12:\n",
    "        return 'child'\n",
    "    if age < 21:\n",
    "        return 'teenager'\n",
    "    if age < 30:\n",
    "        return 'twenties'\n",
    "    if age < 40:\n",
    "        return 'thirties'\n",
    "    if age < 50:\n",
    "        return 'fourties'\n",
    "    if age < 60:\n",
    "        return 'fifties'\n",
    "    else:\n",
    "        return 'senior'"
   ]
  },
  {
   "cell_type": "code",
   "execution_count": 282,
   "metadata": {
    "collapsed": false
   },
   "outputs": [],
   "source": [
    "# Categorize the age in the dataframe\n",
    "titanic_df['Age_cat'] = titanic_df[['Age']].applymap(categorize_by_age)"
   ]
  },
  {
   "cell_type": "code",
   "execution_count": 283,
   "metadata": {
    "collapsed": false
   },
   "outputs": [
    {
     "data": {
      "image/png": "[encoded data removed]",
      "text/plain": [
       "<matplotlib.figure.Figure at 0x125a79e80>"
      ]
     },
     "metadata": {},
     "output_type": "display_data"
    }
   ],
   "source": [
    "# How many passengers per age cat?\n",
    "fig, (axis0,axis1) = plt.subplots(1,2,figsize=(10,5))\n",
    "order_list =['child','teenager','twenties', 'thirties', 'fourties', 'fifties', 'senior']\n",
    "age_cat_countplot = sns.countplot(x='Age_cat', data=titanic_df, ax = axis0, order=order_list)\n",
    "age_cat_countplot.set(title = 'Number of passengers by age', xlabel='Age Category', ylabel='Number of Passengers')\n",
    "\n",
    "# Survival rate by sex?\n",
    "class_srate = titanic_df[['Age_cat', 'Survived']].groupby(['Age_cat'],as_index=False).mean()\n",
    "age_cat_srate_countplot = sns.barplot(x='Age_cat', y='Survived', data=class_srate, ax = axis1, order=order_list)\n",
    "age_cat_srate_countplot.set(title = 'Survival rate of passengers by age', xlabel='Age Category', ylabel='Survival Rate')\n",
    "\n",
    "plt.show()"
   ]
  },
  {
   "cell_type": "markdown",
   "metadata": {},
   "source": [
    "Children had a higher rate of survival, which was above 50%. Still this is way less than women in the first&second class. Seniors seemed to have a lower survival rate which might be due to physical fitness.\n",
    "\n",
    "### Let's check if this might be influenced by the passengers sex"
   ]
  },
  {
   "cell_type": "code",
   "execution_count": 284,
   "metadata": {
    "collapsed": false
   },
   "outputs": [
    {
     "data": {
      "image/png": "[encoded data removed]",
      "text/plain": [
       "<matplotlib.figure.Figure at 0x1225e6780>"
      ]
     },
     "metadata": {},
     "output_type": "display_data"
    }
   ],
   "source": [
    "# How many passengers per class?\n",
    "fig, (axis0,axis1) = plt.subplots(1,2,figsize=(10,5))\n",
    "pclass_countplot = sns.countplot(x='Age_cat', hue='Sex' , hue_order=['female', 'male'], data=titanic_df, ax = axis0, order=order_list)\n",
    "pclass_countplot.set(title = 'Number of passengers by age and sex', xlabel='Age Category', ylabel='Number of Passengers')\n",
    "\n",
    "### Survival rate per class?\n",
    "class_srate = titanic_df[['Age_cat','Sex', 'Survived']].groupby(['Age_cat', 'Sex'],as_index=False).mean()\n",
    "pclass_srate_barplot = sns.barplot(x='Age_cat', y='Survived',hue='Sex', hue_order=['female', 'male'], data=class_srate, ax = axis1, order=order_list)\n",
    "pclass_srate_barplot.set(title = 'Survival rate of passengers by age and sex', xlabel='Age Category', ylabel='Survival Rate')\n",
    "\n",
    "plt.show()"
   ]
  },
  {
   "cell_type": "markdown",
   "metadata": {},
   "source": [
    "#### The same pattern as before seems to hold true, females had a higher rate of survival. Only for children this is not true, the gender did not have such a high impact on the survival rate.\n",
    "\n",
    "### Let's check if it might be influenced by the passengers class"
   ]
  },
  {
   "cell_type": "code",
   "execution_count": 285,
   "metadata": {
    "collapsed": false
   },
   "outputs": [
    {
     "data": {
      "image/png": "[encoded data removed]",
      "text/plain": [
       "<matplotlib.figure.Figure at 0x123a92b38>"
      ]
     },
     "metadata": {},
     "output_type": "display_data"
    }
   ],
   "source": [
    "# How many passengers by age and class?\n",
    "fig, (axis0,axis1) = plt.subplots(1,2,figsize=(15,7.5))\n",
    "pclass_countplot = sns.countplot(x='Age_cat', hue='Pclass' , hue_order=[1, 2, 3], data=titanic_df, ax = axis0, order=order_list)\n",
    "pclass_countplot.set(title = 'Number of passengers by age and class', xlabel='Age Category', ylabel='Number of Passengers')\n",
    "\n",
    "### Survival rate by age and class?\n",
    "class_srate = titanic_df[['Age_cat','Pclass', 'Survived']].groupby(['Age_cat', 'Pclass'],as_index=False).mean()\n",
    "pclass_srate_barplot = sns.barplot(x='Age_cat', y='Survived',hue='Pclass', hue_order=[1, 2, 3], data=class_srate, ax = axis1, order=order_list)\n",
    "pclass_srate_barplot.set(title = 'Survival rate of passengers by age and class', xlabel='Age Category', ylabel='Survival Rate')\n",
    "\n",
    "plt.show()"
   ]
  },
  {
   "cell_type": "markdown",
   "metadata": {},
   "source": [
    "### The age & class both influence the survival rate.\n",
    "Younger passengers tend to have a higher survival rate, which is also true across the passengers classes."
   ]
  },
  {
   "cell_type": "markdown",
   "metadata": {},
   "source": [
    "## Family (SibSp & Parch)\n",
    "### Did people with family onboard have a higher chance to survive as they helped each other?\n"
   ]
  },
  {
   "cell_type": "code",
   "execution_count": 286,
   "metadata": {
    "collapsed": false
   },
   "outputs": [
    {
     "name": "stderr",
     "output_type": "stream",
     "text": [
      "/Users/lt/anaconda/lib/python3.6/site-packages/pandas/core/indexing.py:141: SettingWithCopyWarning: \n",
      "A value is trying to be set on a copy of a slice from a DataFrame\n",
      "\n",
      "See the caveats in the documentation: http://pandas.pydata.org/pandas-docs/stable/indexing.html#indexing-view-versus-copy\n",
      "  self._setitem_with_indexer(indexer, value)\n"
     ]
    }
   ],
   "source": [
    "# Family\n",
    "\n",
    "# combine Parch&SibSp columns into family column\n",
    "# if a passenger had a family member onboard it is 1 else 0\n",
    "titanic_df['Family'] =  titanic_df[\"Parch\"] + titanic_df[\"SibSp\"]\n",
    "titanic_df['Family'].loc[titanic_df['Family'] > 0] = 'yes'\n",
    "titanic_df['Family'].loc[titanic_df['Family'] == 0] = 'no'"
   ]
  },
  {
   "cell_type": "code",
   "execution_count": 287,
   "metadata": {
    "collapsed": false
   },
   "outputs": [
    {
     "data": {
      "image/png": "[encoded data removed]",
      "text/plain": [
       "<matplotlib.figure.Figure at 0x125cace80>"
      ]
     },
     "metadata": {},
     "output_type": "display_data"
    }
   ],
   "source": [
    "# How many passengers by family and class?\n",
    "fig, (axis0,axis1) = plt.subplots(1,2,figsize=(15,7.5))\n",
    "pclass_countplot = sns.countplot(x='Family', hue='Pclass' , hue_order=[1, 2, 3], data=titanic_df, ax = axis0, order=['yes', 'no'])\n",
    "pclass_countplot.set(title = 'Number of passengers by having family onboard and class',xlabel='Family Onboard', ylabel='Number of Passengers')\n",
    "\n",
    "### Survival rate per class?\n",
    "class_srate = titanic_df[['Family','Pclass', 'Survived']].groupby(['Family', 'Pclass'],as_index=False).mean()\n",
    "pclass_srate_barplot = sns.barplot(x='Family', y='Survived',hue='Pclass', hue_order=[1, 2, 3], data=class_srate, ax = axis1, order=['yes', 'no'])\n",
    "pclass_srate_barplot.set(title = 'Survival rate of passengers by having family onboard and class', xlabel='Family Onboard', ylabel='Survival Rate')\n",
    "\n",
    "plt.show()"
   ]
  },
  {
   "cell_type": "markdown",
   "metadata": {},
   "source": [
    "### Having Family members onboard  increases rate of survival\n",
    "The data also reveals that there were a lot of single men traveling in the 3rd class."
   ]
  },
  {
   "cell_type": "markdown",
   "metadata": {},
   "source": [
    "# Summary\n",
    "* The Survival Rate for passengers in the first and second class are higher than for those in the third class.\n",
    "* Women had a higher survival rate, no matter which class.\n",
    "* Women travelling in the first or second class were highly unlikely to die.\n",
    "* Children had a higher rate of survival, which was above 50%.\n",
    "* Younger passengers were more likely to survive.\n",
    "* Having Family members onboard  increases rate of survival.\n"
   ]
  },
  {
   "cell_type": "markdown",
   "metadata": {},
   "source": [
    "# Conclusion\n",
    "The data is indicating that the gender, age and having family onboard were factors that influenced the survival rate. The analysis so far is only descriptive, without any statistical measure of correlation. While this analysis provides a good overview about the dataset, it is not allowing general conclusions. This is due to:\n",
    "* Incomplete dataset: only 891 of 2200 people onboard are included in the dataset. The selection from all passengers could be biased and influence the analysis.\n",
    "* Definition of relatives is misleading, as pointed out in the data description \"family relation variables (i.e. sibsp and parch) some relations were ignored\" and \"close friends or neighbors\" were ignored too.\n",
    "\n",
    "#### Further questions:\n",
    "* How was the data collected? - this could also introduce a selection bias.\n",
    "* Why is the selection of variables so limited?\n",
    "* More questions could be answered, such as if the staff left the ship last.\n",
    "\n",
    "\n",
    "All in all, it would be very intersting to apply a statistical method to see if the effects are just random (children are less than 100 of the pessengers, women less than 300), as the introduced Pearson correlation coefficient is [not sufficient for binary outcomes.](http://stats.stackexchange.com/questions/102778/correlations-between-continuous-and-categorical-nominal-variables)"
   ]
  }
 ],
 "metadata": {
  "anaconda-cloud": {},
  "kernelspec": {
   "display_name": "Python 3",
   "language": "python",
   "name": "python3"
  },
  "language_info": {
   "codemirror_mode": {
    "name": "ipython",
    "version": 3
   },
   "file_extension": ".py",
   "mimetype": "text/x-python",
   "name": "python",
   "nbconvert_exporter": "python",
   "pygments_lexer": "ipython3",
   "version": "3.6.0"
  }
 },
 "nbformat": 4,
 "nbformat_minor": 0
}
