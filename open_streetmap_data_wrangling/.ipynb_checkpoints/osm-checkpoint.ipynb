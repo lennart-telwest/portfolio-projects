{
 "cells": [
  {
   "cell_type": "markdown",
   "metadata": {},
   "source": [
    "# OpenStreetMap Data Case Study\n",
    "\n",
    "### Map Area\n",
    "I decided to explore and edit the osm data of [Hamburg in Germany](https://en.wikipedia.org/wiki/Hamburg). \n",
    "It is the city I live and work in and would like to contribute to. The osm extract was downloaded [via mapzen](https://mapzen.com/data/metro-extracts/metro/hamburg_germany/).\n",
    "\n",
    "\n",
    "## Problems Encountered in the Data\n",
    "\n",
    "The data donwloaded was passed through the subset creation code and elements were filtered for only those that contain `'node', 'way', 'relation'`.\n",
    "When running the data.py on the remaining data, the following problems came up: \n",
    "\n",
    "- Some elements did not contain a user name or uid"
   ]
  },
  {
   "cell_type": "code",
   "execution_count": 20,
   "metadata": {
    "collapsed": false
   },
   "outputs": [],
   "source": [
    "import xml.etree.cElementTree as ET\n",
    "import pprint\n",
    "import re\n",
    "from collections import defaultdict\n",
    "import csv\n",
    "import cerberus\n",
    "import schema\n",
    "import string\n",
    "import sqlite3\n",
    "\n",
    "OSMFILE = \"/Users/lt/Git/portfolio-projects/open_streetmap_data_wrangling/hamburg.osm\"\n",
    "OSMSAMPLE = \"/Users/lt/Git/portfolio-projects/open_streetmap_data_wrangling/sample.osm\""
   ]
  },
  {
   "cell_type": "code",
   "execution_count": 21,
   "metadata": {
    "collapsed": false
   },
   "outputs": [
    {
     "name": "stdout",
     "output_type": "stream",
     "text": [
      "Tags Numbers: \n"
     ]
    },
    {
     "data": {
      "text/plain": [
       "defaultdict(int,\n",
       "            {'member': 12081,\n",
       "             'nd': 375075,\n",
       "             'node': 282964,\n",
       "             'osm': 1,\n",
       "             'relation': 899,\n",
       "             'tag': 227612,\n",
       "             'way': 51875})"
      ]
     },
     "execution_count": 21,
     "metadata": {},
     "output_type": "execute_result"
    }
   ],
   "source": [
    "def count_tags(filename):\n",
    "    output = defaultdict(int)\n",
    "    for event, elem in ET.iterparse(filename):\n",
    "        output[elem.tag] += 1\n",
    "    return output\n",
    "tags = count_tags(OSMSAMPLE)\n",
    "print(\"Tags Numbers: \")\n",
    "pprint.pprint(tags)"
   ]
  },
  {
   "cell_type": "code",
   "execution_count": 7,
   "metadata": {
    "collapsed": true
   },
   "outputs": [],
   "source": [
    "def process_map_users(filename):\n",
    "    users = set()\n",
    "    for _, element in ET.iterparse(filename):\n",
    "        if element.get(\"uid\"):\n",
    "            uid = element.get(\"uid\")\n",
    "            users.add(uid)\n",
    "        pass\n",
    "    return users"
   ]
  },
  {
   "cell_type": "code",
   "execution_count": 9,
   "metadata": {
    "collapsed": false
   },
   "outputs": [
    {
     "name": "stdout",
     "output_type": "stream",
     "text": [
      "Number of Contributers:  2675\n"
     ]
    }
   ],
   "source": [
    "users = process_map_users(OSMSAMPLE)\n",
    "print('Number of Contributers: ', len(users))"
   ]
  },
  {
   "cell_type": "code",
   "execution_count": 16,
   "metadata": {
    "collapsed": true
   },
   "outputs": [],
   "source": [
    "lower = re.compile(r'^([a-z]|_)*$')\n",
    "lower_colon = re.compile(r'^([a-z]|_)*:([a-z]|_)*$')\n",
    "problemchars = re.compile(r'[=\\+/&<>;\\'\"\\?%#$@\\,\\. \\t\\r\\n]')\n",
    "\n",
    "def key_type(element, keys):\n",
    "    if element.tag == \"tag\":\n",
    "        k_tag = element.get('k')\n",
    "        if re.search(lower, k_tag):\n",
    "            keys[\"lower\"] += 1\n",
    "        elif re.search(lower_colon, k_tag):\n",
    "            keys[\"lower_colon\"] += 1\n",
    "        elif re.search(problemchars, k_tag):\n",
    "            keys[\"problemchars\"] += 1\n",
    "        else:\n",
    "            keys[\"other\"] += 1\n",
    "        pass\n",
    "        \n",
    "    return keys\n",
    "\n",
    "def process_map(filename):\n",
    "    keys = {\"lower\": 0, \"lower_colon\": 0, \"problemchars\": 0, \"other\": 0}\n",
    "    for _, element in ET.iterparse(filename):\n",
    "        keys = key_type(element, keys)\n",
    "\n",
    "    return keys"
   ]
  },
  {
   "cell_type": "code",
   "execution_count": 19,
   "metadata": {
    "collapsed": false
   },
   "outputs": [
    {
     "name": "stdout",
     "output_type": "stream",
     "text": [
      "Regex check of tags: \n",
      "{'lower': 116420, 'lower_colon': 107144, 'other': 4044, 'problemchars': 4}\n"
     ]
    }
   ],
   "source": [
    "keys = process_map('sample.osm')\n",
    "print(\"Regex check of tags: \")\n",
    "pprint.pprint(keys)"
   ]
  },
  {
   "cell_type": "code",
   "execution_count": null,
   "metadata": {
    "collapsed": true
   },
   "outputs": [],
   "source": []
  }
 ],
 "metadata": {
  "kernelspec": {
   "display_name": "Python 3",
   "language": "python",
   "name": "python3"
  },
  "language_info": {
   "codemirror_mode": {
    "name": "ipython",
    "version": 3
   },
   "file_extension": ".py",
   "mimetype": "text/x-python",
   "name": "python",
   "nbconvert_exporter": "python",
   "pygments_lexer": "ipython3",
   "version": "3.6.0"
  }
 },
 "nbformat": 4,
 "nbformat_minor": 2
}
